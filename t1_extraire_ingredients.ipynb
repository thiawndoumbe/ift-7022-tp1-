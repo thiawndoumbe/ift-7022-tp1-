{
 "cells": [
  {
   "cell_type": "markdown",
   "id": "7b56914a",
   "metadata": {},
   "source": [
    "# Tâche 1 - Extraction d'informations à partir de recettes\n",
    "\n",
    "Construisez des expressions régulières pour repérer les aliments et les quantités de chaque item du fichier ***data/t1_ingredients.txt***. Compléter la fonction ***get_ingredients*** de la Section 3 de ce *notebook* afin de retourner la quantité et l’ingrédient d’un item. Par exemple, \n",
    "\n",
    "\n",
    "    get_ingredients(\"2 cuillères à café de poudre à pâte\")\n",
    "\n",
    "devrait retourner la paire :\n",
    "\n",
    "    \"2 cuillères à café\", \"poudre à pâte\"\n",
    "\n",
    "Par la suite, présentez à la Section 4 les performances que vous obtenez avec ces expressions régulières sur le fichier ***data/t1_test.json***. Discutez des principales erreurs commises par vos expressions régulières. "
   ]
  },
  {
   "cell_type": "markdown",
   "id": "833c026a",
   "metadata": {},
   "source": [
    "## Section 1 - Lecture du fichier pour la construction d'expressions régulières"
   ]
  },
  {
   "cell_type": "code",
   "execution_count": 1,
   "id": "751d7acf",
   "metadata": {},
   "outputs": [],
   "source": [
    "ingredients_fn = \"./data/t1_ingredients.txt\""
   ]
  },
  {
   "cell_type": "code",
   "execution_count": 2,
   "id": "23a50db6",
   "metadata": {},
   "outputs": [],
   "source": [
    "def load_ingredients(filename):\n",
    "    with open(filename, 'r', encoding='utf-8') as f:\n",
    "        raw_items = f.readlines()\n",
    "    ingredients = [x.strip() for x in raw_items]\n",
    "    return ingredients"
   ]
  },
  {
   "cell_type": "code",
   "execution_count": 3,
   "id": "108fa26d",
   "metadata": {
    "editable": true,
    "slideshow": {
     "slide_type": ""
    },
    "tags": []
   },
   "outputs": [
    {
     "data": {
      "text/plain": [
       "50"
      ]
     },
     "execution_count": 3,
     "metadata": {},
     "output_type": "execute_result"
    }
   ],
   "source": [
    "ingredients = load_ingredients(ingredients_fn)\n",
    "len(ingredients)"
   ]
  },
  {
   "cell_type": "code",
   "execution_count": 4,
   "id": "4e400359",
   "metadata": {},
   "outputs": [
    {
     "data": {
      "text/plain": [
       "['0,5 tasse sucre',\n",
       " '2 bananes en purée',\n",
       " '2 oeufs',\n",
       " '2 tasses farine',\n",
       " '2 cuillères à café poudre à pâte',\n",
       " '0,5 cuillère à café sel',\n",
       " '1 cuillère à café poudre à pâte',\n",
       " '6 pommes vertes pelées, en tranches',\n",
       " 'sel',\n",
       " '2 cuillères à soupe jus de citron',\n",
       " '3 échalotes coupées finement',\n",
       " '0,75 tasse vin blanc sec',\n",
       " '2 tasses crème 35%',\n",
       " '1 pincée de muscade',\n",
       " '1 lb poitrine de poulet désossées et coupées en petits morceaux',\n",
       " '1 oeuf battu',\n",
       " '0,5 cuillère à café (2 ml) sel',\n",
       " '1 cuillère à soupe (15 ml) gingembre râpé',\n",
       " '0,25 tasse (65 ml) oignon vert coupés en biseaux',\n",
       " '0,25 tasse (65 ml) eau ou au goût',\n",
       " '3 tasses pommes de terre en purée',\n",
       " '0,25 tasse échalote hachées',\n",
       " '2 boîtes de conserve (213 g) saumons',\n",
       " \"1 enveloppe soupe à l'oignon\",\n",
       " '1 rôti de 675 g (1 ½ lb) de filet mignon de bœuf (prélevé dans le centre du filet)',\n",
       " '30 ml (2 c. à soupe) d’huile d’olive',\n",
       " '190 g (¾ tasse) de beurre non salé',\n",
       " '7,5 ml (1 ½ c. à thé) d’estragon frais ciselé',\n",
       " '6 oignons verts, coupés en tronçons de 4 cm (2 ½ po)',\n",
       " '250 g de nouilles de riz',\n",
       " '1 petit piment rouge Thaï (type rawit)',\n",
       " '2 cébettes thaï',\n",
       " '1 c. à c. de sucre',\n",
       " '1 citron vert',\n",
       " '7 à 8 grosses crevettes roses',\n",
       " '80 g de germes de soja',\n",
       " '2 œufs',\n",
       " 'sel et poivre du moulin au goût',\n",
       " '40 g de cacahuètes torréfiées',\n",
       " '½ botte de coriandre',\n",
       " '2 gousses d’ail, hachées',\n",
       " '16 petites palourdes dans leur coquille, rincées',\n",
       " '340 g (3/4 lb) de langoustines surgelées et décongelées (voir note)',\n",
       " '30 ml (2 c. à soupe) de persil plat ciselé',\n",
       " 'Croûtons à l’huile d’olive',\n",
       " '12 tranches de pain baguette d’environ 1,5 cm (1/2 po) d’épaisseur',\n",
       " 'Beurre pour fonçage',\n",
       " '5 c. à .s de vinaigre balsamique',\n",
       " 'Quelques sommités de basilic',\n",
       " '1 Bouquet de menthe, pour décorer']"
      ]
     },
     "execution_count": 4,
     "metadata": {},
     "output_type": "execute_result"
    }
   ],
   "source": [
    "ingredients"
   ]
  },
  {
   "cell_type": "markdown",
   "id": "717708cc",
   "metadata": {},
   "source": [
    "Les résultats attendus des 50 exemples utilisés pour la construction de vos expressions régulières sont: "
   ]
  },
  {
   "cell_type": "code",
   "execution_count": 5,
   "id": "6a6bba1b",
   "metadata": {},
   "outputs": [
    {
     "data": {
      "text/plain": [
       "50"
      ]
     },
     "execution_count": 5,
     "metadata": {},
     "output_type": "execute_result"
    }
   ],
   "source": [
    "import json \n",
    "\n",
    "solution_fn = 'data/t1_ingredients_solution.json'\n",
    "\n",
    "with open(solution_fn, 'r', encoding='utf-8') as fp:\n",
    "    solutions = json.load(fp)\n",
    "\n",
    "len(solutions)"
   ]
  },
  {
   "cell_type": "code",
   "execution_count": null,
   "id": "42c1a7d2",
   "metadata": {},
   "outputs": [
    {
     "data": {
      "text/plain": [
       "[{'text': '0,5 tasse sucre', 'quantity': '0,5 tasse', 'ingredient': 'sucre'},\n",
       " {'text': '2 bananes en purée', 'quantity': '2', 'ingredient': 'bananes'},\n",
       " {'text': '2 oeufs', 'quantity': '2', 'ingredient': 'oeufs'},\n",
       " {'text': '2 tasses farine', 'quantity': '2 tasses', 'ingredient': 'farine'},\n",
       " {'text': '2 cuillères à café de poudre à pâte',\n",
       "  'quantity': '2 cuillères à café',\n",
       "  'ingredient': 'poudre à pâte'},\n",
       " {'text': '0,5 cuillère à café sel',\n",
       "  'quantity': '0,5 cuillère à café',\n",
       "  'ingredient': 'sel'},\n",
       " {'text': '1 cuillère à café poudre à pâte',\n",
       "  'quantity': '1 cuillère à café',\n",
       "  'ingredient': 'poudre à pâte'},\n",
       " {'text': '6 pommes vertes pelées, en tranches',\n",
       "  'quantity': '6',\n",
       "  'ingredient': 'pommes vertes'},\n",
       " {'text': 'sel', 'quantity': '', 'ingredient': 'sel'},\n",
       " {'text': '2 cuillères à soupe jus de citron',\n",
       "  'quantity': '2 cuillères à soupe',\n",
       "  'ingredient': 'jus de citron'},\n",
       " {'text': '3 échalotes coupées finement',\n",
       "  'quantity': '3',\n",
       "  'ingredient': 'échalotes'},\n",
       " {'text': '0,75 tasse vin blanc sec',\n",
       "  'quantity': '0,75 tasse',\n",
       "  'ingredient': 'vin blanc sec'},\n",
       " {'text': '2 tasses crème 35%',\n",
       "  'quantity': '2 tasses',\n",
       "  'ingredient': 'crème 35%'},\n",
       " {'text': '1 pincée de muscade',\n",
       "  'quantity': '1 pincée',\n",
       "  'ingredient': 'muscade'},\n",
       " {'text': '1 lb poitrine de poulet désossées et coupées en petits morceaux',\n",
       "  'quantity': '1 lb',\n",
       "  'ingredient': 'poitrine de poulet'},\n",
       " {'text': '1 oeuf battu', 'quantity': '1', 'ingredient': 'oeuf'},\n",
       " {'text': '0,5 cuillère à café (2 ml) sel',\n",
       "  'quantity': '0,5 cuillère à café (2 ml)',\n",
       "  'ingredient': 'sel'},\n",
       " {'text': '1 cuillère à soupe (15 ml) gingembre râpé',\n",
       "  'quantity': '1 cuillère à soupe (15 ml)',\n",
       "  'ingredient': 'gingembre'},\n",
       " {'text': '0,25 tasse (65 ml) oignon vert coupés en biseaux',\n",
       "  'quantity': '0,25 tasse (65 ml)',\n",
       "  'ingredient': 'oignon vert'},\n",
       " {'text': '0,25 tasse (65 ml) eau ou au goût',\n",
       "  'quantity': '0,25 tasse (65 ml) ou au goût',\n",
       "  'ingredient': 'eau'},\n",
       " {'text': '3 tasses pommes de terre en purée',\n",
       "  'quantity': '3 tasses',\n",
       "  'ingredient': 'pommes de terre'},\n",
       " {'text': '0,25 tasse échalote hachées',\n",
       "  'quantity': '0,25 tasse',\n",
       "  'ingredient': 'échalote'},\n",
       " {'text': '2 boîtes de conserve (213 g) saumons',\n",
       "  'quantity': '2 boîtes de conserve (213 g)',\n",
       "  'ingredient': 'saumons'},\n",
       " {'text': \"1 enveloppe soupe à l'oignon\",\n",
       "  'quantity': '1 enveloppe',\n",
       "  'ingredient': \"soupe à l'oignon\"},\n",
       " {'text': '1 rôti de 675 g (1 ½ lb) de filet mignon de bœuf (prélevé dans le centre du filet)',\n",
       "  'quantity': '1 rôti de 675 g (1 ½ lb)',\n",
       "  'ingredient': 'filet mignon de bœuf'},\n",
       " {'text': '30 ml (2 c. à soupe) d’huile d’olive',\n",
       "  'quantity': '30 ml (2 c. à soupe)',\n",
       "  'ingredient': 'huile d’olive'},\n",
       " {'text': '190 g (¾ tasse) de beurre non salé',\n",
       "  'quantity': '190 g (¾ tasse)',\n",
       "  'ingredient': 'beurre non salé'},\n",
       " {'text': '7,5 ml (1 ½ c. à thé) d’estragon frais ciselé',\n",
       "  'quantity': '7,5 ml (1 ½ c. à thé)',\n",
       "  'ingredient': 'estragon frais'},\n",
       " {'text': '6 oignons verts, coupés en tronçons de 4 cm (2 ½ po)',\n",
       "  'quantity': '6',\n",
       "  'ingredient': 'oignons verts'},\n",
       " {'text': '250 g de nouilles de riz',\n",
       "  'quantity': '250 g',\n",
       "  'ingredient': 'nouilles de riz'},\n",
       " {'text': '1 petit piment rouge Thaï (type rawit)',\n",
       "  'quantity': '1',\n",
       "  'ingredient': 'petit piment rouge Thaï (type rawit)'},\n",
       " {'text': '2 cébettes thaï', 'quantity': '2', 'ingredient': 'cébettes thaï'},\n",
       " {'text': '1 c. à c. de sucre',\n",
       "  'quantity': '1 c. à c.',\n",
       "  'ingredient': 'sucre'},\n",
       " {'text': '1 citron vert', 'quantity': '1', 'ingredient': 'citron vert'},\n",
       " {'text': '7 à 8 grosses crevettes roses',\n",
       "  'quantity': '7 à 8',\n",
       "  'ingredient': 'grosses crevettes roses'},\n",
       " {'text': '80 g de germes de soja',\n",
       "  'quantity': '80 g',\n",
       "  'ingredient': 'germes de soja'},\n",
       " {'text': '2 œufs', 'quantity': '2', 'ingredient': 'œufs'},\n",
       " {'text': 'sel et poivre du moulin au goût',\n",
       "  'quantity': 'au goût',\n",
       "  'ingredient': 'sel et poivre du moulin'},\n",
       " {'text': '40 g de cacahuètes torréfiées',\n",
       "  'quantity': '40 g',\n",
       "  'ingredient': 'cacahuètes'},\n",
       " {'text': '½ botte de coriandre',\n",
       "  'quantity': '½ botte',\n",
       "  'ingredient': 'coriandre'},\n",
       " {'text': '2 gousses d’ail, hachées',\n",
       "  'quantity': '2 gousses',\n",
       "  'ingredient': 'ail'},\n",
       " {'text': '16 petites palourdes dans leur coquille, rincées',\n",
       "  'quantity': '16',\n",
       "  'ingredient': 'petites palourdes'},\n",
       " {'text': '340 g (3/4 lb) de langoustines surgelées et décongelées (voir note)',\n",
       "  'quantity': '340 g (3/4 lb)',\n",
       "  'ingredient': 'langoustines surgelées'},\n",
       " {'text': '30 ml (2 c. à soupe) de persil plat ciselé',\n",
       "  'quantity': '30 ml (2 c. à soupe)',\n",
       "  'ingredient': 'persil plat'},\n",
       " {'text': 'Croûtons à l’huile d’olive',\n",
       "  'quantity': '',\n",
       "  'ingredient': 'Croûtons à l’huile d’olive'},\n",
       " {'text': '12 tranches de pain baguette d’environ 1,5 cm (1/2 po) d’épaisseur',\n",
       "  'quantity': '12 tranches',\n",
       "  'ingredient': 'pain baguette'},\n",
       " {'text': 'Beurre pour fonçage', 'quantity': '', 'ingredient': 'Beurre'},\n",
       " {'text': '5 c. à .s de vinaigre balsamique',\n",
       "  'quantity': '5 c. à .s',\n",
       "  'ingredient': 'vinaigre balsamique'},\n",
       " {'text': 'Quelques sommités de basilic',\n",
       "  'quantity': 'Quelques sommités',\n",
       "  'ingredient': 'basilic'},\n",
       " {'text': '1 Bouquet de menthe, pour décorer',\n",
       "  'quantity': '1 Bouquet',\n",
       "  'ingredient': 'menthe'}]"
      ]
     },
     "execution_count": 6,
     "metadata": {},
     "output_type": "execute_result"
    }
   ],
   "source": [
    "solutions"
   ]
  },
  {
   "cell_type": "markdown",
   "id": "71714aac",
   "metadata": {},
   "source": [
    "## Section 2 - Vos expressions régulières\n",
    "\n",
    "Mettez dans cette section toutes les expressions régulières que vous avez construites à partir du fichier ***data/t1_ingredients.txt***. \n",
    "Vous pouvez ajouter des cellules dans cette section du *notebook* si cela permet de rendre la description plus claire. "
   ]
  },
  {
   "cell_type": "code",
   "execution_count": 42,
   "id": "e033b7ab",
   "metadata": {},
   "outputs": [],
   "source": [
    "import re\n",
    "\n",
    "# Vos expressions régulières\n",
    "# Expression régulière pour récupérer les quantités.\n",
    "quantity_regex = r'((\\(?((\\d+,\\d*)|(\\d+ à \\d+)|(\\d (⅓|½|¾))|\\d+/\\d+|\\d+(?!\\d+)(?!%)|(⅓|½|¾)) {0,1}(kg|ml|g(?!\\w)|c\\. à c\\.|c\\. à soupe|c\\. à \\.s|c\\. à s\\.|cm|oz|po(?!\\w)|lb|c\\. à thé|tasse(s?)|Bouquet(s?)|enveloppe(s?)|cuillère(s?) à soupe|cuillère(s?) à café|gousse(s?)|tranche(s?)|botte(s?)|boîte(s?) de conserve|pincée(s?))?\\)?|au goût|Quelque(s?) sommité(s?)) ?)+'\n",
    "quantity_regex = re.compile(quantity_regex, re.IGNORECASE)\n",
    "\n",
    "# Expression régulière pour récupérer les ingrédients après avoir enlevé les quantités.\n",
    "food_regex = r\"(\\w{3,} +[\\w|’|']+ +[\\w|’|']+)|(\\w{3,} +[\\w|’|'|%]+)|(\\w{3,})\"\n",
    "food_regex = re.compile(food_regex, re.IGNORECASE)\n"
   ]
  },
  {
   "cell_type": "markdown",
   "id": "5b9c54b5",
   "metadata": {},
   "source": [
    "L'expression pour récuperer les quantités est relativement complexe, elle récupère tous les chiffres décimaux ou non et les fractions écrites en un charactère tel que ⅓ et sur plusieurs charactères tel que 1/3. Ensuite, elle capture les termes suivants basé sur un liste prédéfinie tel que c. à s. ou cuil`ere à soupe.\n",
    "Le regex pour des ingrédients capture la première séquence de un à trois termes avec le premier terme ayant au moins 3 lettres suivant les quantités. \n",
    "Une explication plus détaillée se trouve ci-dessous dans la partie \"Analyse des résultats\"."
   ]
  },
  {
   "cell_type": "markdown",
   "id": "e4376a90",
   "metadata": {},
   "source": [
    "## Section 3 - Fonction pour l'extraction des ingrédients\n",
    "\n",
    "La fonction principale ***get_ingredients*** prend en entrée une ligne de texte et retourne une paires de valeurs: la quantité et l'aliment.\n",
    "\n",
    "Vous pouvez ajouter autant de sous-fonctions que vous le souhaitez.\n",
    "Il est cependant important de ne pas modifier la signature de la fonction principale afin de faciliter notre travail de correction."
   ]
  },
  {
   "cell_type": "code",
   "execution_count": null,
   "id": "17b964c7",
   "metadata": {},
   "outputs": [],
   "source": [
    "def get_ingredients(text):\n",
    "    quantity_match = quantity_regex.match(text)\n",
    "    if quantity_match is not None:\n",
    "        quantity = quantity_match.group().strip()\n",
    "    else:\n",
    "        quantity = \"\"\n",
    "    # On retire les quantités de la ligne pour simplifier la recherche des ingrédients\n",
    "    aliments = re.sub(quantity_regex,'',text).strip()\n",
    "    food_match = food_regex.search(aliments)\n",
    "    if food_match is not None:\n",
    "        food = food_match.group().strip()\n",
    "    else:\n",
    "        food = \"\"\n",
    "    return quantity, food "
   ]
  },
  {
   "cell_type": "code",
   "execution_count": 44,
   "id": "42402b57",
   "metadata": {},
   "outputs": [],
   "source": [
    "for ingredient in ingredients:\n",
    "    quantity, food = get_ingredients(ingredient)\n",
    "    # print(f\"Quantity: {quantity}, Food: {food}\")"
   ]
  },
  {
   "cell_type": "markdown",
   "id": "18abed4e",
   "metadata": {},
   "source": [
    "Vous pouvez mettre ici tout commentaire qui nous aiderait à comprendre votre fonction et pour expliquer votre démarche. De plus, indiquez si vous réussissez à extraire toutes les informations du fichier d'ingrédients. Sinon, donnez des précisions.  "
   ]
  },
  {
   "cell_type": "markdown",
   "id": "dc6701ba",
   "metadata": {},
   "source": [
    "La fonction premièrement cherche les quantités de chaque ligne de texte. Pour recupérer les aliments, les quantités sont retirés et le reste est cherché avec la expression régulière."
   ]
  },
  {
   "cell_type": "markdown",
   "id": "e3215a46",
   "metadata": {},
   "source": []
  },
  {
   "cell_type": "markdown",
   "id": "6bfec24b",
   "metadata": {},
   "source": [
    "## Section 4 - Évaluation et analyse de vos résultats\n",
    "\n",
    "Décrivez ici les résultats obtenus et présentez l'évaluation obtenue sur le fichier de test ***data/t1_test.json***. Présentez des exemples d'erreurs. Vous pouvez ajouter le nombre de cellules que vous souhaitez pour faire votre analyse. "
   ]
  },
  {
   "cell_type": "markdown",
   "id": "fd14d5e0",
   "metadata": {},
   "source": [
    "Dans un premier temps, on monte en mémoire les exemples de tests. Vous deviez en avoir 26. Chacun contient le texte de l'ingrédient, la quantité et l'aliment. "
   ]
  },
  {
   "cell_type": "code",
   "execution_count": 45,
   "id": "f6ab40a7",
   "metadata": {},
   "outputs": [],
   "source": [
    "import json\n",
    "\n",
    "def load_test_set(filename):\n",
    "    with open(filename, 'r', encoding='utf-8') as fp:\n",
    "        tests = json.load(fp)\n",
    "    return tests"
   ]
  },
  {
   "cell_type": "code",
   "execution_count": 46,
   "id": "6fcf73e0",
   "metadata": {},
   "outputs": [
    {
     "data": {
      "text/plain": [
       "126"
      ]
     },
     "execution_count": 46,
     "metadata": {},
     "output_type": "execute_result"
    }
   ],
   "source": [
    "test_fn = \"./data/t1_test.json\"\n",
    "# test_examples\n",
    "test_examples = load_test_set(test_fn)\n",
    "len(test_examples)"
   ]
  },
  {
   "cell_type": "markdown",
   "id": "ee5e5b25",
   "metadata": {},
   "source": [
    "Les prochaines cellules présentent l'évaluation (dont le code pour mener l'évaluation) et votre analyse des résutlats. "
   ]
  },
  {
   "cell_type": "code",
   "execution_count": 48,
   "id": "8e9cc045",
   "metadata": {},
   "outputs": [
    {
     "name": "stdout",
     "output_type": "stream",
     "text": [
      "1 0 Quantity: 2|2 --- Food:bananes en purée|bananes\n",
      "1 0 Quantity: 6|6 --- Food:pommes vertes pelées|pommes vertes\n",
      "1 0 Quantity: 3|3 --- Food:échalotes coupées finement|échalotes\n",
      "1 0 Quantity: 8|8 --- Food:champignons émincés|champignons\n",
      "1 0 Quantity: 1|1 --- Food:oeuf battu|oeuf\n",
      "1 0 Quantity: 1 cuillère à soupe (15 ml)|1 cuillère à soupe (15 ml) --- Food:gingembre râpé|gingembre\n",
      "1 0 Quantity: 0,25 tasse (65 ml)|0,25 tasse (65 ml) --- Food:oignon vert coupés|oignon vert\n",
      "0 0 Quantity: 0,25 tasse (65 ml)|0,25 tasse (65 ml) ou au goût --- Food:eau ou|eau\n",
      "0 0 Quantity: 0,25 tasse (65 ml)|0,25 tasse (65 ml) ou au goût --- Food:sucre ou|sucre\n",
      "0 1 Quantity: 1 cuillère à soupe (15 ml)|cuillère à soupe (15 ml) --- Food:fécule de maïs|fécule de maïs\n",
      "1 0 Quantity: 0,5 tasse|0,5 tasse --- Food:fromage cheddar râpé|fromage cheddar\n",
      "1 0 Quantity: 0,25 tasse|0,25 tasse --- Food:échalote hachées|échalote\n",
      "1 0 Quantity: 1|1 --- Food:oeuf battu|oeuf\n",
      "0 0 Quantity: 1|1 rôti de 675 g (1 ½ lb) --- Food:rôti de de|filet mignon de bœuf\n",
      "0 0 Quantity: 2,5 ml (½ c. à thé)|2,5ml (½ c. à thé) --- Food:grains de poivre|grains de poivre noir\n",
      "1 0 Quantity: 30 ml (2 c. à soupe)|30 ml (2 c. à soupe) --- Food:vinaigre de vin|vinaigre de vin blanc\n",
      "1 0 Quantity: 7,5 ml (1 ½ c. à thé)|7,5 ml (1 ½ c. à thé) --- Food:estragon frais ciselé|estragon frais\n",
      "0 0 Quantity: 3|3 d’environ 340 g (¾ lb) chacun --- Food:homards d’environ chacun|homards\n",
      "1 0 Quantity: | --- Food:Préparation de la|\n",
      "1 0 Quantity: 1|1 --- Food:petit piment rouge|petit piment rouge Thaï (type rawit)\n",
      "1 0 Quantity: 3 c. à s.|3 c. à s. --- Food:nam pla|nam pla (nuoc-mâm)\n",
      "0 0 Quantity: |au goût --- Food:sel et poivre|sel et poivre du moulin\n",
      "1 0 Quantity: 40 g|40 g --- Food:cacahuètes torréfiées|cacahuètes\n",
      "1 0 Quantity: 3 c. à s.|3 c. à s. --- Food:huile de sésame|huile de sésame et arachide\n",
      "1 0 Quantity: 16|16 --- Food:petites palourdes dans|petites palourdes\n",
      "1 0 Quantity: 340 g (3/4 lb)|340 g (3/4 lb) --- Food:langoustines surgelées et|langoustines surgelées\n",
      "1 0 Quantity: 454 g (1 lb)|454 g (1 lb) --- Food:asperges moyennes coupées|asperges moyennes\n",
      "1 0 Quantity: 30 ml (2 c. à soupe)|30 ml (2 c. à soupe) --- Food:persil plat ciselé|persil plat\n",
      "0 1 Quantity: 30 ml (2 c. à soupe)|30 ml (2 c. à soupe) (facultatif) --- Food:beurre|beurre\n",
      "1 0 Quantity: | --- Food:Croûtons à l’huile|Croûtons à l’huile d’olive\n",
      "1 0 Quantity: 12 tranches|12 tranches --- Food:pain baguette d’environ|pain baguette\n",
      "1 0 Quantity: | --- Food:Beurre pour fonçage|Beurre\n",
      "Quantity: 118/126\n",
      "Ingredient: 96/126\n"
     ]
    }
   ],
   "source": [
    "total_quantity = 0\n",
    "total_food = 0\n",
    "\n",
    "for ingredient in test_examples:\n",
    "    quantity, food = get_ingredients(ingredient[\"text\"])\n",
    "    same_quantity = 1 if quantity == ingredient[\"quantity\"] else 0\n",
    "    total_quantity += same_quantity\n",
    "    same_food = 1 if food == ingredient[\"ingredient\"] else 0\n",
    "    total_food += same_food\n",
    "    if same_food == 0 or same_quantity == 0:\n",
    "        print(f\"{same_quantity} {same_food} Quantity: {quantity}|{ingredient['quantity']} --- Food:{food}|{ingredient['ingredient']}\")\n",
    "\n",
    "print(f\"Quantity: {total_quantity}/{len(test_examples)}\")\n",
    "print(f\"Ingredient: {total_food}/{len(test_examples)}\")"
   ]
  },
  {
   "cell_type": "markdown",
   "id": "97e8ffe8-8668-491d-bc66-abcd50058c6e",
   "metadata": {},
   "source": [
    "## Analyse des résultats\n",
    "\n",
    "Sur le dataset de test, nous obtenons un résultat de 118/126 pour les quantitées et de 96/126 pour les ingrédients.\n",
    "\n",
    "### Quantités\n",
    "\n",
    "Pour les quantités, certaines erreurs semblent être des erreurs du jeu de test. Par exemple, nous obtenons 1 cuillère à soupe (15 ml) alors que la réponse selon le jeu de test est cuillère à soupe (15 ml). Le 1 est manquant, ce qui est surprenant puisque le 1 devrait normalement se retrouver dans la réponse. En ce qui concerne les autres erreurs, nous n'avons pas capturé au goût ou facultatif, ce qui serait possible en ajustant la capture du terme. Cependant, plus la regex contient de terme et plus elle devient complexe et difficile à débogger. Certaines quantités sont plus complexes et demanderait un regex beaucoup plus complexe pour le récupérer tel que \"3 d’environ 340 g (¾ lb) chacun\" et \"1 rôti de 675 g (1 ½ lb)\". Ces cas pourraient être ajoutés au regex, cependant, seulement les cas des tests seraient capturés alors que plusieurs autres cas qui ne sont pas dans le jeu de données ne le seraient pas.\n",
    "\n",
    "### Ingrédients\n",
    "\n",
    "Contrairement aux quantités, les ingrédients n'ont pas de règles spécifiques, ce qui rend le développement d'une regex difficile. Nous avons choisi de capturer la première séquence de un à trois termes avec le premier terme ayant au moins 3 lettres suivant les quantités. Selon nos tests, c'est le nombre de mots qui donnait le meilleur résultat. Capturer seulement les séquences débutant avec un mot d'au moins 3 lettres sert à éviter de capturer les termes tel que \"d'\" et \"de\" se situant devant les ingrédients, mais conserver ces mêmes mots lorsqu'ils sont dans la séquence, par exemple, pour la séquence d'huile d'olive, le premier \"d'\" est retiré, mais le deuxième est conservé, ce qui nous donne \"huile d'olive\"."
   ]
  },
  {
   "cell_type": "markdown",
   "id": "60170fbf",
   "metadata": {},
   "source": [
    "## Section 5 - Section réservée pour notre correction\n",
    "\n",
    "Ne pas retirer les cellules de cette section. "
   ]
  },
  {
   "cell_type": "code",
   "execution_count": null,
   "id": "6a1ccf14",
   "metadata": {},
   "outputs": [],
   "source": []
  },
  {
   "cell_type": "code",
   "execution_count": null,
   "id": "04f3d948-e874-4063-9b46-539131b41b9e",
   "metadata": {},
   "outputs": [],
   "source": []
  },
  {
   "cell_type": "code",
   "execution_count": null,
   "id": "d59f0af9-03c7-439d-910a-12f4b60772a2",
   "metadata": {},
   "outputs": [],
   "source": []
  },
  {
   "cell_type": "code",
   "execution_count": null,
   "id": "a2706240-5d8d-4358-afba-96800b1d5cb3",
   "metadata": {},
   "outputs": [],
   "source": []
  }
 ],
 "metadata": {
  "kernelspec": {
   "display_name": "Python 3 (ipykernel)",
   "language": "python",
   "name": "python3"
  },
  "language_info": {
   "codemirror_mode": {
    "name": "ipython",
    "version": 3
   },
   "file_extension": ".py",
   "mimetype": "text/x-python",
   "name": "python",
   "nbconvert_exporter": "python",
   "pygments_lexer": "ipython3",
   "version": "3.10.9"
  }
 },
 "nbformat": 4,
 "nbformat_minor": 5
}
