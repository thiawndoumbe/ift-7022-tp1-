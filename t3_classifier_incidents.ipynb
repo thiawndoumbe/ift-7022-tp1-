{
 "cells": [
  {
   "cell_type": "markdown",
   "id": "4d53d4c2",
   "metadata": {},
   "source": [
    "# Tâche 3 - Classification automatique de descriptions d'incidents\n",
    "\n",
    "Cette tâche vise à classifier de courts textes décrivant des incidents qui se sont produits sur des chantiers de construction. Pour chaque incident, on retrouve une étiquette de 1 à 4. Ces étiquettes sont inconnues et vous devrez tenter de les identifier à la section 3 de ce *notebook*. \n",
    "\n",
    "Les objectifs de cette tâche sont: \n",
    "- de se familiariser avec la classification de texte\n",
    "- d'apprendre à utiliser les fonctions de base de scikit-learn\n",
    "- de comprendre comment représenter un texte sous la forme d'un sac de mots (*bag of words*)\n",
    "- de faire l'évaluation d'un modèle de classification avec un corpus de test\n",
    "- de tenter d'interpréter les résultats d'un modèle à l'aide des poids d'attributs. \n",
    "\n",
    "Pour la première partie, vous devez construire une fonction (*train_and_test_classifier*) qui entraîne un modèle (les options étant la régression logistique et le naïf bayésien) et en faire l'évaluation sur des données d'entraînement et des données de test. Deux fichiers de textes sont disponibles pour mener votre expérimentation (voir Section 1). \n",
    "\n",
    "Pour la deuxième partie, vous devez tentez de déterminer à quoi correspond chacune des classes d’incident. Faites une analyse des poids des modèles pour proposer des étiquettes pour chacune des classes. Vous pouvez vous inspirer des *notebooks* disponibles sur le site du cours. Expliquez clairement comment vous êtes arrivé à vos conclusions. \n",
    "\n",
    "Merci de respecter les signatures des fonctions *train_and_test_classifier* et *load_incident_dataset*."
   ]
  },
  {
   "cell_type": "markdown",
   "id": "d64cb0b9",
   "metadata": {},
   "source": [
    "## Section 1 - Lecture des fichiers de données\n",
    "\n",
    "Voici les fichiers mis à votre disposition pour mener vos expérimentations. La fonction *load_incident_data* peut être utilisée pour lire les 2 fichiers (train et test). Rien à modifier dans cette section. "
   ]
  },
  {
   "cell_type": "code",
   "execution_count": 1,
   "id": "d7082859",
   "metadata": {},
   "outputs": [],
   "source": [
    "import json\n",
    "\n",
    "train_json_fn = \"./data/t3_train.json\"\n",
    "test_json_fn = \"./data/t3_test.json\"\n",
    "\n",
    "\n",
    "def load_incident_dataset(filename):\n",
    "    with open(filename, 'r') as fp:\n",
    "        incident_list = json.load(fp)\n",
    "    return incident_list"
   ]
  },
  {
   "cell_type": "code",
   "execution_count": 2,
   "id": "84aea833",
   "metadata": {},
   "outputs": [
    {
     "name": "stdout",
     "output_type": "stream",
     "text": [
      "Nombre d'incidents: 2097\n",
      "\n",
      "Un exemple:\n",
      " {'text': ' On February 7  2012 an employee was carrying a 24 inch metal pump jack  scaffolding support that came in contact or near contact with a high voltage  wire. The employee was electrocuted and died.                                   ', 'label': 1}\n"
     ]
    }
   ],
   "source": [
    "train_list = load_incident_dataset(train_json_fn)\n",
    "print(\"Nombre d'incidents:\", len(train_list))\n",
    "print(\"\\nUn exemple:\\n\", train_list[10])"
   ]
  },
  {
   "cell_type": "code",
   "execution_count": 3,
   "id": "88755bf5",
   "metadata": {},
   "outputs": [
    {
     "name": "stdout",
     "output_type": "stream",
     "text": [
      "Nombre d'incidents 878\n",
      "\n",
      "Une description d'incident:  On January 25  2012  Employee#1 and Employee #2 were on the first level of the  one story wooden structure when it collapsed. Employee #1 was able to crawl  out from underneath the fallen structure and received out-patient medical care  for minor injuries. Employee # 2 died at the scene.                             \n",
      "\n",
      "Son étiquette: 1\n"
     ]
    }
   ],
   "source": [
    "test_list = load_incident_dataset(test_json_fn)\n",
    "print(\"Nombre d'incidents\", len(test_list))\n",
    "incident = test_list[10]\n",
    "print(\"\\nUne description d'incident:\", incident[\"text\"])\n",
    "print(\"\\nSon étiquette:\", incident[\"label\"])"
   ]
  },
  {
   "cell_type": "markdown",
   "id": "1a418049",
   "metadata": {},
   "source": [
    "## Section 2 - Entraînement et évaluation des modèles  \n",
    "\n",
    "Vous pouvez ajouter tout le code dont vous avez besoin pour l'entraînement. Merci de ne pas modifier la signature de la fonction d'entraînement et de bien expliquer votre démarche et vos résultats. N'oubliez pas de faire une recommandation de modèle. Vous pouvez ajouter des cellules au *notebook* si nécessaire. "
   ]
  },
  {
   "cell_type": "code",
   "execution_count": 4,
   "id": "7ef2905d",
   "metadata": {},
   "outputs": [
    {
     "name": "stdout",
     "output_type": "stream",
     "text": [
      "<class 'list'>\n",
      "<class 'dict'>\n",
      "dict_keys(['text', 'label'])\n"
     ]
    }
   ],
   "source": [
    "print(type(train_list))\n",
    "print(type(train_list[1]))\n",
    "print(train_list[1].keys())"
   ]
  },
  {
   "cell_type": "code",
   "execution_count": 5,
   "id": "e36640fe",
   "metadata": {},
   "outputs": [],
   "source": [
    "# Visualisation de la matrice de confusion (comme montré dans l'example de cours)\n",
    "def display_confusion_matrix(confusion_matrix, classes):\n",
    "    print(\"\\n\\nVersion graphique de la matrice de confusion\") \n",
    "    df_cm = pd.DataFrame(confusion_matrix, index=classes, columns=classes)\n",
    "    f, ax = plt.subplots(figsize=(7, 5))\n",
    "    sns.heatmap(df_cm, annot=True, fmt=\"d\", linewidths=.5, ax=ax)\n",
    "    plt.ylabel('Vrai étiquette')\n",
    "    plt.xlabel('Étiquette prédite')\n",
    "    plt.show()"
   ]
  },
  {
   "cell_type": "code",
   "execution_count": 6,
   "id": "38738d51",
   "metadata": {},
   "outputs": [],
   "source": [
    "# Importer ici les librairies dont vous avez besoin\n",
    "from sklearn.feature_extraction.text import CountVectorizer\n",
    "from sklearn.linear_model import LogisticRegression\n",
    "from sklearn.naive_bayes import MultinomialNB\n",
    "import numpy as np\n",
    "from sklearn.model_selection import cross_val_score\n",
    "from sklearn.metrics import accuracy_score, confusion_matrix\n",
    "import pandas as pd\n",
    "import seaborn as sns\n",
    "import matplotlib.pyplot as plt\n",
    "\n",
    "\n",
    "# Visualisation de la matrice de confusion (comme montré dans l'example de cours)\n",
    "def display_confusion_matrix(confusion_matrix, classes):\n",
    "    print(\"\\n\\nVersion graphique de la matrice de confusion\") \n",
    "    df_cm = pd.DataFrame(confusion_matrix, index=classes, columns=classes)\n",
    "    f, ax = plt.subplots(figsize=(7, 5))\n",
    "    sns.heatmap(df_cm, annot=True, fmt=\"d\", linewidths=.5, ax=ax, cmap='Blues')\n",
    "    plt.ylabel('Vrai étiquette')\n",
    "    plt.xlabel('Étiquette prédite')\n",
    "    plt.show()\n",
    "\n",
    "def train_and_test_classifier(train_fn, test_fn, model='NB'):\n",
    "    \"\"\"\n",
    "    :param train_fn et test_fn: les 2 fichiers utilisées pour entraîner et tester les classificateurs.\n",
    "    :param model: le type de classificateur. NB = Naive Bayes, LR = Régression logistique.\n",
    "    :return: un dictionnaire contenant 3 valeurs:\n",
    "                 - l'accuracy à l'entraînement (validation croisée)\n",
    "                 - l'accuracy sur le jeu de test\n",
    "                 - la matrice de confusion calculée par scikit-learn sur les données de test\n",
    "    \"\"\"\n",
    "\n",
    "    # Votre code...\n",
    "    # charger les ensembles de données\n",
    "    train_list = load_incident_dataset(train_fn)\n",
    "    test_list = load_incident_dataset(test_fn)\n",
    "\n",
    "    # allouer les données d'entraînement et de test\n",
    "    train_txt = [dict['text'] for dict in train_list]\n",
    "    train_lbl = [dict['label'] for dict in train_list]\n",
    "    test_txt = [dict['text'] for dict in test_list]\n",
    "    test_lbl = [dict['label'] for dict in test_list]\n",
    "\n",
    "    # initialiser le sac de mots \n",
    "    vectorizer_bow = CountVectorizer(ngram_range=(1,3),\n",
    "                                    min_df=2)\n",
    "    \n",
    "    # transformer les donées de text\n",
    "    X_train_bow = vectorizer_bow.fit_transform(train_txt)\n",
    "    X_test_bow = vectorizer_bow.transform(test_txt)\n",
    "\n",
    "    # choisir le model\n",
    "    if model=='LR':\n",
    "        class_mod = LogisticRegression(max_iter=100, solver='newton-cg')\n",
    "    elif model=='NB':\n",
    "        class_mod = MultinomialNB()\n",
    "    else:\n",
    "        print('\\nUse LR for Logistic Regression or NB for Naive Bayes')\n",
    "    \n",
    "    # perte d'entropie croisée pour l'entraînement\n",
    "    train_scores = cross_val_score(class_mod, X=X_train_bow, y=train_lbl, cv=10)\n",
    "    train_acc = np.mean(train_scores)\n",
    "\n",
    "    # entraînement réeel \n",
    "    class_mod.fit(X_train_bow, train_lbl)\n",
    "\n",
    "    # predictions avec les donnnées test\n",
    "    pred_test = class_mod.predict(X_test_bow)\n",
    "    test_acc = accuracy_score(test_lbl,pred_test)\n",
    "    confusion_mat = confusion_matrix(test_lbl,pred_test)\n",
    "\n",
    "    # formatage de matrice de confusion\n",
    "    class_names = ['Score 1', 'Score 2', 'Score 3', 'Score 4']\n",
    "    confusion_mat_beautiful = pd.DataFrame(data=confusion_mat, index=class_names,columns=class_names)\n",
    "    display_confusion_matrix(confusion_mat, class_names)\n",
    "\n",
    "\n",
    "    # resultats \n",
    "    results = dict()\n",
    "    results['accuracy_train'] = train_acc\n",
    "    results['accuracy_test'] = test_acc\n",
    "    results['confusion_matrix'] = confusion_mat_beautiful  \n",
    "    results['modèles entraînées'] = model\n",
    "    \n",
    "    \n",
    "\n",
    "    return results, class_mod, vectorizer_bow"
   ]
  },
  {
   "cell_type": "code",
   "execution_count": 7,
   "id": "c8a126c6",
   "metadata": {},
   "outputs": [
    {
     "name": "stdout",
     "output_type": "stream",
     "text": [
      "\n",
      "\n",
      "Version graphique de la matrice de confusion\n"
     ]
    },
    {
     "data": {
      "image/png": "[encoded data removed]",
      "text/plain": [
       "<Figure size 700x500 with 2 Axes>"
      ]
     },
     "metadata": {},
     "output_type": "display_data"
    },
    {
     "name": "stdout",
     "output_type": "stream",
     "text": [
      "Résultats de la classification:\n",
      "accuracy_train: 0.9928480291638186\n",
      "accuracy_test: 0.9886104783599089\n",
      "\n",
      "confusion_matrix:\n",
      "         Score 1  Score 2  Score 3  Score 4\n",
      "Score 1      161        1        0        1\n",
      "Score 2        1      205        0        1\n",
      "Score 3        0        0      272        3\n",
      "Score 4        2        0        1      230\n",
      "modèles entraînées: LR\n"
     ]
    }
   ],
   "source": [
    "results_lr, class_mod_lr, vectorizer_bow_lr = train_and_test_classifier(train_json_fn, test_json_fn, model = 'LR')\n",
    "\n",
    "print(\"Résultats de la classification:\")\n",
    "for key, value in results_lr.items():\n",
    "    if isinstance(value, pd.DataFrame):  # matrice de confusion est un DataFrame\n",
    "        print(f\"\\n{key}:\")\n",
    "        print(value)\n",
    "    else:\n",
    "        print(f\"{key}: {value}\")\n",
    "\n",
    "# training accuracy = 0.9928\n",
    "# test accuracy = 0.9886\n",
    "# LR surpasse NB"
   ]
  },
  {
   "cell_type": "code",
   "execution_count": 8,
   "id": "31923e45",
   "metadata": {},
   "outputs": [
    {
     "name": "stdout",
     "output_type": "stream",
     "text": [
      "\n",
      "\n",
      "Version graphique de la matrice de confusion\n"
     ]
    },
    {
     "data": {
      "image/png": "[encoded data removed]",
      "text/plain": [
       "<Figure size 700x500 with 2 Axes>"
      ]
     },
     "metadata": {},
     "output_type": "display_data"
    }
   ],
   "source": [
    "results_nb, class_mod_nb, vectorizer_bow_nb = train_and_test_classifier(train_json_fn, test_json_fn, model= 'NB')\n"
   ]
  },
  {
   "cell_type": "code",
   "execution_count": 9,
   "id": "10e3f458",
   "metadata": {},
   "outputs": [
    {
     "name": "stdout",
     "output_type": "stream",
     "text": [
      "Résultats de la classification:\n",
      "accuracy_train: 0.7405718842560948\n",
      "accuracy_test: 0.7676537585421412\n",
      "\n",
      "confusion_matrix:\n",
      "         Score 1  Score 2  Score 3  Score 4\n",
      "Score 1       91       12       28       32\n",
      "Score 2        5      143       37       22\n",
      "Score 3        4        9      249       13\n",
      "Score 4        4        6       32      191\n",
      "modèles entraînées: NB\n"
     ]
    }
   ],
   "source": [
    "print(\"Résultats de la classification:\")\n",
    "for key, value in results_nb.items():\n",
    "    if isinstance(value, pd.DataFrame):  # matrice de confusion est un DataFrame\n",
    "        print(f\"\\n{key}:\")\n",
    "        print(value)\n",
    "    else:\n",
    "        print(f\"{key}: {value}\")\n",
    "\n",
    "# training accuracy = 0.7406\n",
    "# test accuracy = 0.7676\n",
    "# NB est surpassé by LR, mais NB est plus vite."
   ]
  },
  {
   "cell_type": "markdown",
   "id": "00dead83",
   "metadata": {},
   "source": [
    "On trouve que la regression logistique surpasse Naive Bayes. La accuracy est mieux et on le voit aussi dans la matrice de confusion. Cependant, le NB est plus rapide que la régression logistique. Dans ce cas, cela ne fait pas beaucoup de différence, donc nous recommandons la régression logistique."
   ]
  },
  {
   "cell_type": "markdown",
   "id": "c9a9dbd2",
   "metadata": {},
   "source": [
    "## Section 3 - À quoi correspondent les classes? Explicabilité du modèle\n",
    "\n",
    "En utilisant les poids des modèles, tentez d'attribuer une signification aux différentes classes. Il devrait être possible de définir précisément la nature et la composition des classes. L'important est d'utiliser ce qu'on observe dans les modèles pour fournir une explication plausible.\n",
    "\n",
    "Vous pouvez ajouter tout le code et toutes les cellules dont vous avez besoin."
   ]
  },
  {
   "cell_type": "code",
   "execution_count": 10,
   "id": "d0abbe15",
   "metadata": {},
   "outputs": [
    {
     "name": "stdout",
     "output_type": "stream",
     "text": [
      "[1, 2, 3, 4]\n"
     ]
    }
   ],
   "source": [
    "# Verifier les labels\n",
    "class_labels = list(set([dict['label'] for dict in train_list]))\n",
    "print(class_labels)"
   ]
  },
  {
   "cell_type": "code",
   "execution_count": 11,
   "id": "052fe60f",
   "metadata": {},
   "outputs": [
    {
     "name": "stdout",
     "output_type": "stream",
     "text": [
      "\n",
      "Class 1:\n",
      "              Word    Weight\n",
      "0       on january  1.435767\n",
      "1          january  1.427510\n",
      "2         february  1.412914\n",
      "3      on february  1.410649\n",
      "4            march  1.344021\n",
      "5         on march  1.340287\n",
      "6      30 on march  0.173536\n",
      "7    30 on january  0.164036\n",
      "8   00 on february  0.151849\n",
      "9             four  0.141103\n",
      "10   00 on january  0.140058\n",
      "11            2008  0.134845\n",
      "12    employee and  0.134177\n",
      "13     00 on march  0.130739\n",
      "14   2008 employee  0.122190\n",
      "15            site  0.118771\n",
      "16    the employee  0.114732\n",
      "17           their  0.113060\n",
      "18         wearing  0.111780\n",
      "19            fall  0.110583\n",
      "\n",
      "Class 2:\n",
      "                      Word    Weight\n",
      "0                     june  1.608342\n",
      "1                  on june  1.608094\n",
      "2                   on may  1.476664\n",
      "3                      may  1.401691\n",
      "4                    april  1.372852\n",
      "5                 on april  1.370316\n",
      "6                     2013  0.166258\n",
      "7               30 on june  0.150346\n",
      "8                    grade  0.133501\n",
      "9                30 on may  0.132788\n",
      "10             00 on april  0.129016\n",
      "11                april 30  0.127519\n",
      "12              00 on june  0.127138\n",
      "13              insulation  0.127024\n",
      "14              on june 27  0.125948\n",
      "15                 june 27  0.125948\n",
      "16             on april 30  0.124901\n",
      "17  and fell approximately  0.122872\n",
      "18                   while  0.117614\n",
      "19                  height  0.113122\n",
      "\n",
      "Class 3:\n",
      "               Word    Weight\n",
      "0      on september  1.593385\n",
      "1         on august  1.582381\n",
      "2         september  1.581036\n",
      "3            august  1.577663\n",
      "4              july  1.563000\n",
      "5           on july  1.555746\n",
      "6   00 on september  0.166077\n",
      "7      00 on august  0.137787\n",
      "8          coworker  0.131823\n",
      "9        30 on july  0.124980\n",
      "10            truss  0.120822\n",
      "11       00 on july  0.119109\n",
      "12               he  0.110020\n",
      "13  30 on september  0.106071\n",
      "14  on september 28  0.105605\n",
      "15     september 28  0.105605\n",
      "16          forward  0.104879\n",
      "17    2013 employee  0.100707\n",
      "18          july 23  0.098839\n",
      "19       on july 23  0.098839\n",
      "\n",
      "Class 4:\n",
      "              Word    Weight\n",
      "0       on october  1.582767\n",
      "1         november  1.579835\n",
      "2      on november  1.578584\n",
      "3          october  1.576242\n",
      "4         december  1.301473\n",
      "5      on december  1.294512\n",
      "6   00 on november  0.193414\n",
      "7           worker  0.162859\n",
      "8   30 on november  0.152000\n",
      "9     construction  0.144042\n",
      "10  on december 12  0.143979\n",
      "11     december 12  0.143979\n",
      "12            2010  0.138298\n",
      "13   30 on october  0.134478\n",
      "14   on october 10  0.125154\n",
      "15      october 10  0.125154\n",
      "16        building  0.120434\n",
      "17         and his  0.119996\n",
      "18  00 on december  0.119460\n",
      "19   00 on october  0.117550\n"
     ]
    }
   ],
   "source": [
    "# Obtenir les noms et characteristiques du modèle LR\n",
    "feature_names = np.array(vectorizer_bow_lr.get_feature_names_out())\n",
    "coefficients = class_mod_lr.coef_\n",
    "\n",
    "# trouver les mots les plus importants (positives) pour chaque classe \n",
    "for i, label in enumerate(class_labels):\n",
    "    print(f\"\\nClass {label}:\")\n",
    "    \n",
    "    # obtenir les Top 20 indices des mots avec les coefficients plus élevés\n",
    "    top_indices = np.argsort(coefficients[i])[::-1][:20]\n",
    "    top_words = feature_names[top_indices]\n",
    "    top_weights = coefficients[i][top_indices]\n",
    "    \n",
    "    # Mettre tout en dataframe\n",
    "    top_words_df = pd.DataFrame({\n",
    "        'Word': top_words,\n",
    "        'Weight': top_weights\n",
    "    })\n",
    "    \n",
    "    print(top_words_df)\n",
    "\n"
   ]
  },
  {
   "cell_type": "markdown",
   "id": "96288060",
   "metadata": {},
   "source": []
  },
  {
   "cell_type": "markdown",
   "id": "8706eba7",
   "metadata": {},
   "source": [
    "Basé sur les poids des modèles, nous pensons que les labels correspondent aux saisons de l'année. Les poids les plus élevés du label 1 sont les mois de janvier, février et mars. Pour le label 2, ce sont avril, mai et juin. Pour le label 3 ce sont juillet, août et septembre et pour le label 4 ce sont octobre, novembre et décembre. Par conséquent, nous croyons que les incidents sont classés en fonction de la saison à laquelle ils se sont produits."
   ]
  },
  {
   "cell_type": "markdown",
   "id": "8518aab0",
   "metadata": {},
   "source": [
    "## Section 4 - Section réservée pour nos tests"
   ]
  },
  {
   "cell_type": "code",
   "execution_count": null,
   "id": "5d6b8bec",
   "metadata": {},
   "outputs": [],
   "source": []
  },
  {
   "cell_type": "code",
   "execution_count": null,
   "id": "3d3ab13b",
   "metadata": {},
   "outputs": [],
   "source": []
  },
  {
   "cell_type": "code",
   "execution_count": null,
   "id": "b811c1f8",
   "metadata": {},
   "outputs": [],
   "source": []
  },
  {
   "cell_type": "code",
   "execution_count": null,
   "id": "eb2f9746",
   "metadata": {},
   "outputs": [],
   "source": []
  },
  {
   "cell_type": "code",
   "execution_count": null,
   "id": "0e1912bf",
   "metadata": {},
   "outputs": [],
   "source": []
  }
 ],
 "metadata": {
  "kernelspec": {
   "display_name": "Python 3 (ipykernel)",
   "language": "python",
   "name": "python3"
  },
  "language_info": {
   "codemirror_mode": {
    "name": "ipython",
    "version": 3
   },
   "file_extension": ".py",
   "mimetype": "text/x-python",
   "name": "python",
   "nbconvert_exporter": "python",
   "pygments_lexer": "ipython3",
   "version": "3.10.9"
  }
 },
 "nbformat": 4,
 "nbformat_minor": 5
}
